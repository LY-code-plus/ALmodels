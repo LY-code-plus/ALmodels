{
 "cells": [
  {
   "cell_type": "code",
   "execution_count": 1,
   "id": "c7dd6956",
   "metadata": {},
   "outputs": [],
   "source": [
    "#加入第一轮主动学习筛选出的配方结果，V4里的10号配方\n",
    "#加入第0轮主动学习筛选出的配方结果，V4里的1210号配方"
   ]
  },
  {
   "cell_type": "code",
   "execution_count": 1,
   "id": "104e7a0f",
   "metadata": {},
   "outputs": [],
   "source": [
    "import numpy as np\n",
    "import pandas as pd\n",
    "import matplotlib.pyplot as plt\n",
    "import warnings\n",
    "warnings.filterwarnings(\"ignore\")\n",
    "%matplotlib inline\n",
    "\n",
    "from sklearn.gaussian_process import GaussianProcessRegressor\n",
    "from sklearn.gaussian_process.kernels import WhiteKernel, RBF\n",
    "from modAL.models import ActiveLearner, CommitteeRegressor#modAL官方文档可查\n",
    "from modAL.disagreement import max_std_sampling\n",
    "\n",
    "\n",
    "# metrics\n",
    "from sklearn.metrics import mean_squared_error, r2_score"
   ]
  },
  {
   "cell_type": "code",
   "execution_count": 2,
   "id": "4a14c0f7",
   "metadata": {},
   "outputs": [],
   "source": [
    "f = open(\"D:\\sklearn学习\\DCPD力学性能\\玻璃化转变温度0802\\玻璃化转变温度_主动学习第二轮.csv\", encoding = 'utf-8')"
   ]
  },
  {
   "cell_type": "code",
   "execution_count": 3,
   "id": "8ebea99f",
   "metadata": {},
   "outputs": [
    {
     "data": {
      "text/html": [
       "<div>\n",
       "<style scoped>\n",
       "    .dataframe tbody tr th:only-of-type {\n",
       "        vertical-align: middle;\n",
       "    }\n",
       "\n",
       "    .dataframe tbody tr th {\n",
       "        vertical-align: top;\n",
       "    }\n",
       "\n",
       "    .dataframe thead th {\n",
       "        text-align: right;\n",
       "    }\n",
       "</style>\n",
       "<table border=\"1\" class=\"dataframe\">\n",
       "  <thead>\n",
       "    <tr style=\"text-align: right;\">\n",
       "      <th></th>\n",
       "      <th>0</th>\n",
       "      <th>1</th>\n",
       "      <th>2</th>\n",
       "      <th>3</th>\n",
       "      <th>4</th>\n",
       "      <th>5</th>\n",
       "      <th>6</th>\n",
       "    </tr>\n",
       "  </thead>\n",
       "  <tbody>\n",
       "    <tr>\n",
       "      <th>0</th>\n",
       "      <td>174.477332</td>\n",
       "      <td>0</td>\n",
       "      <td>5</td>\n",
       "      <td>100</td>\n",
       "      <td>109.657843</td>\n",
       "      <td>1.0</td>\n",
       "      <td>152.09</td>\n",
       "    </tr>\n",
       "    <tr>\n",
       "      <th>1</th>\n",
       "      <td>174.477332</td>\n",
       "      <td>0</td>\n",
       "      <td>5</td>\n",
       "      <td>110</td>\n",
       "      <td>109.657843</td>\n",
       "      <td>1.0</td>\n",
       "      <td>151.31</td>\n",
       "    </tr>\n",
       "    <tr>\n",
       "      <th>2</th>\n",
       "      <td>174.477332</td>\n",
       "      <td>0</td>\n",
       "      <td>5</td>\n",
       "      <td>120</td>\n",
       "      <td>109.657843</td>\n",
       "      <td>1.0</td>\n",
       "      <td>153.46</td>\n",
       "    </tr>\n",
       "    <tr>\n",
       "      <th>3</th>\n",
       "      <td>174.477332</td>\n",
       "      <td>0</td>\n",
       "      <td>5</td>\n",
       "      <td>130</td>\n",
       "      <td>109.657843</td>\n",
       "      <td>1.0</td>\n",
       "      <td>145.10</td>\n",
       "    </tr>\n",
       "    <tr>\n",
       "      <th>4</th>\n",
       "      <td>174.477332</td>\n",
       "      <td>0</td>\n",
       "      <td>5</td>\n",
       "      <td>140</td>\n",
       "      <td>109.657843</td>\n",
       "      <td>1.0</td>\n",
       "      <td>142.94</td>\n",
       "    </tr>\n",
       "    <tr>\n",
       "      <th>5</th>\n",
       "      <td>174.477332</td>\n",
       "      <td>0</td>\n",
       "      <td>5</td>\n",
       "      <td>150</td>\n",
       "      <td>109.657843</td>\n",
       "      <td>1.0</td>\n",
       "      <td>148.81</td>\n",
       "    </tr>\n",
       "    <tr>\n",
       "      <th>6</th>\n",
       "      <td>174.477332</td>\n",
       "      <td>0</td>\n",
       "      <td>3</td>\n",
       "      <td>100</td>\n",
       "      <td>109.657843</td>\n",
       "      <td>0.2</td>\n",
       "      <td>150.24</td>\n",
       "    </tr>\n",
       "    <tr>\n",
       "      <th>7</th>\n",
       "      <td>174.477332</td>\n",
       "      <td>0</td>\n",
       "      <td>3</td>\n",
       "      <td>100</td>\n",
       "      <td>109.657843</td>\n",
       "      <td>0.5</td>\n",
       "      <td>156.45</td>\n",
       "    </tr>\n",
       "    <tr>\n",
       "      <th>8</th>\n",
       "      <td>174.477332</td>\n",
       "      <td>0</td>\n",
       "      <td>3</td>\n",
       "      <td>100</td>\n",
       "      <td>109.657843</td>\n",
       "      <td>1.0</td>\n",
       "      <td>154.07</td>\n",
       "    </tr>\n",
       "    <tr>\n",
       "      <th>9</th>\n",
       "      <td>174.477332</td>\n",
       "      <td>0</td>\n",
       "      <td>8</td>\n",
       "      <td>100</td>\n",
       "      <td>109.657843</td>\n",
       "      <td>0.2</td>\n",
       "      <td>144.63</td>\n",
       "    </tr>\n",
       "    <tr>\n",
       "      <th>10</th>\n",
       "      <td>174.477332</td>\n",
       "      <td>0</td>\n",
       "      <td>8</td>\n",
       "      <td>100</td>\n",
       "      <td>109.657843</td>\n",
       "      <td>0.5</td>\n",
       "      <td>149.68</td>\n",
       "    </tr>\n",
       "    <tr>\n",
       "      <th>11</th>\n",
       "      <td>174.477332</td>\n",
       "      <td>0</td>\n",
       "      <td>8</td>\n",
       "      <td>100</td>\n",
       "      <td>109.657843</td>\n",
       "      <td>1.0</td>\n",
       "      <td>139.77</td>\n",
       "    </tr>\n",
       "    <tr>\n",
       "      <th>12</th>\n",
       "      <td>174.477332</td>\n",
       "      <td>0</td>\n",
       "      <td>5</td>\n",
       "      <td>80</td>\n",
       "      <td>109.657843</td>\n",
       "      <td>1.0</td>\n",
       "      <td>145.87</td>\n",
       "    </tr>\n",
       "    <tr>\n",
       "      <th>13</th>\n",
       "      <td>174.477332</td>\n",
       "      <td>0</td>\n",
       "      <td>5</td>\n",
       "      <td>90</td>\n",
       "      <td>109.657843</td>\n",
       "      <td>1.0</td>\n",
       "      <td>150.32</td>\n",
       "    </tr>\n",
       "    <tr>\n",
       "      <th>14</th>\n",
       "      <td>174.477332</td>\n",
       "      <td>0</td>\n",
       "      <td>5</td>\n",
       "      <td>50</td>\n",
       "      <td>109.657843</td>\n",
       "      <td>0.5</td>\n",
       "      <td>148.33</td>\n",
       "    </tr>\n",
       "    <tr>\n",
       "      <th>15</th>\n",
       "      <td>174.477332</td>\n",
       "      <td>0</td>\n",
       "      <td>5</td>\n",
       "      <td>60</td>\n",
       "      <td>109.657843</td>\n",
       "      <td>0.5</td>\n",
       "      <td>151.10</td>\n",
       "    </tr>\n",
       "    <tr>\n",
       "      <th>16</th>\n",
       "      <td>174.477332</td>\n",
       "      <td>0</td>\n",
       "      <td>5</td>\n",
       "      <td>70</td>\n",
       "      <td>109.657843</td>\n",
       "      <td>0.5</td>\n",
       "      <td>154.52</td>\n",
       "    </tr>\n",
       "    <tr>\n",
       "      <th>17</th>\n",
       "      <td>174.477332</td>\n",
       "      <td>0</td>\n",
       "      <td>10</td>\n",
       "      <td>50</td>\n",
       "      <td>109.657843</td>\n",
       "      <td>0.0</td>\n",
       "      <td>144.05</td>\n",
       "    </tr>\n",
       "    <tr>\n",
       "      <th>18</th>\n",
       "      <td>174.477332</td>\n",
       "      <td>0</td>\n",
       "      <td>0</td>\n",
       "      <td>50</td>\n",
       "      <td>109.657843</td>\n",
       "      <td>1.0</td>\n",
       "      <td>153.61</td>\n",
       "    </tr>\n",
       "  </tbody>\n",
       "</table>\n",
       "</div>"
      ],
      "text/plain": [
       "             0  1   2    3           4    5       6\n",
       "0   174.477332  0   5  100  109.657843  1.0  152.09\n",
       "1   174.477332  0   5  110  109.657843  1.0  151.31\n",
       "2   174.477332  0   5  120  109.657843  1.0  153.46\n",
       "3   174.477332  0   5  130  109.657843  1.0  145.10\n",
       "4   174.477332  0   5  140  109.657843  1.0  142.94\n",
       "5   174.477332  0   5  150  109.657843  1.0  148.81\n",
       "6   174.477332  0   3  100  109.657843  0.2  150.24\n",
       "7   174.477332  0   3  100  109.657843  0.5  156.45\n",
       "8   174.477332  0   3  100  109.657843  1.0  154.07\n",
       "9   174.477332  0   8  100  109.657843  0.2  144.63\n",
       "10  174.477332  0   8  100  109.657843  0.5  149.68\n",
       "11  174.477332  0   8  100  109.657843  1.0  139.77\n",
       "12  174.477332  0   5   80  109.657843  1.0  145.87\n",
       "13  174.477332  0   5   90  109.657843  1.0  150.32\n",
       "14  174.477332  0   5   50  109.657843  0.5  148.33\n",
       "15  174.477332  0   5   60  109.657843  0.5  151.10\n",
       "16  174.477332  0   5   70  109.657843  0.5  154.52\n",
       "17  174.477332  0  10   50  109.657843  0.0  144.05\n",
       "18  174.477332  0   0   50  109.657843  1.0  153.61"
      ]
     },
     "execution_count": 3,
     "metadata": {},
     "output_type": "execute_result"
    }
   ],
   "source": [
    "df = pd.read_csv(f, header = None)\n",
    "df"
   ]
  },
  {
   "cell_type": "code",
   "execution_count": 4,
   "id": "6782e8b4",
   "metadata": {},
   "outputs": [
    {
     "data": {
      "text/html": [
       "<div>\n",
       "<style scoped>\n",
       "    .dataframe tbody tr th:only-of-type {\n",
       "        vertical-align: middle;\n",
       "    }\n",
       "\n",
       "    .dataframe tbody tr th {\n",
       "        vertical-align: top;\n",
       "    }\n",
       "\n",
       "    .dataframe thead th {\n",
       "        text-align: right;\n",
       "    }\n",
       "</style>\n",
       "<table border=\"1\" class=\"dataframe\">\n",
       "  <thead>\n",
       "    <tr style=\"text-align: right;\">\n",
       "      <th></th>\n",
       "      <th>0</th>\n",
       "      <th>1</th>\n",
       "      <th>2</th>\n",
       "      <th>3</th>\n",
       "      <th>4</th>\n",
       "      <th>5</th>\n",
       "      <th>6</th>\n",
       "    </tr>\n",
       "  </thead>\n",
       "  <tbody>\n",
       "    <tr>\n",
       "      <th>0</th>\n",
       "      <td>174.477332</td>\n",
       "      <td>0</td>\n",
       "      <td>5</td>\n",
       "      <td>100</td>\n",
       "      <td>109.657843</td>\n",
       "      <td>1.0</td>\n",
       "      <td>152.09</td>\n",
       "    </tr>\n",
       "    <tr>\n",
       "      <th>1</th>\n",
       "      <td>174.477332</td>\n",
       "      <td>0</td>\n",
       "      <td>5</td>\n",
       "      <td>110</td>\n",
       "      <td>109.657843</td>\n",
       "      <td>1.0</td>\n",
       "      <td>151.31</td>\n",
       "    </tr>\n",
       "    <tr>\n",
       "      <th>2</th>\n",
       "      <td>174.477332</td>\n",
       "      <td>0</td>\n",
       "      <td>5</td>\n",
       "      <td>120</td>\n",
       "      <td>109.657843</td>\n",
       "      <td>1.0</td>\n",
       "      <td>153.46</td>\n",
       "    </tr>\n",
       "    <tr>\n",
       "      <th>3</th>\n",
       "      <td>174.477332</td>\n",
       "      <td>0</td>\n",
       "      <td>5</td>\n",
       "      <td>130</td>\n",
       "      <td>109.657843</td>\n",
       "      <td>1.0</td>\n",
       "      <td>145.10</td>\n",
       "    </tr>\n",
       "    <tr>\n",
       "      <th>4</th>\n",
       "      <td>174.477332</td>\n",
       "      <td>0</td>\n",
       "      <td>5</td>\n",
       "      <td>140</td>\n",
       "      <td>109.657843</td>\n",
       "      <td>1.0</td>\n",
       "      <td>142.94</td>\n",
       "    </tr>\n",
       "    <tr>\n",
       "      <th>5</th>\n",
       "      <td>174.477332</td>\n",
       "      <td>0</td>\n",
       "      <td>5</td>\n",
       "      <td>150</td>\n",
       "      <td>109.657843</td>\n",
       "      <td>1.0</td>\n",
       "      <td>148.81</td>\n",
       "    </tr>\n",
       "    <tr>\n",
       "      <th>6</th>\n",
       "      <td>174.477332</td>\n",
       "      <td>0</td>\n",
       "      <td>3</td>\n",
       "      <td>100</td>\n",
       "      <td>109.657843</td>\n",
       "      <td>0.2</td>\n",
       "      <td>150.24</td>\n",
       "    </tr>\n",
       "    <tr>\n",
       "      <th>7</th>\n",
       "      <td>174.477332</td>\n",
       "      <td>0</td>\n",
       "      <td>3</td>\n",
       "      <td>100</td>\n",
       "      <td>109.657843</td>\n",
       "      <td>0.5</td>\n",
       "      <td>156.45</td>\n",
       "    </tr>\n",
       "    <tr>\n",
       "      <th>8</th>\n",
       "      <td>174.477332</td>\n",
       "      <td>0</td>\n",
       "      <td>3</td>\n",
       "      <td>100</td>\n",
       "      <td>109.657843</td>\n",
       "      <td>1.0</td>\n",
       "      <td>154.07</td>\n",
       "    </tr>\n",
       "    <tr>\n",
       "      <th>9</th>\n",
       "      <td>174.477332</td>\n",
       "      <td>0</td>\n",
       "      <td>8</td>\n",
       "      <td>100</td>\n",
       "      <td>109.657843</td>\n",
       "      <td>0.2</td>\n",
       "      <td>144.63</td>\n",
       "    </tr>\n",
       "    <tr>\n",
       "      <th>10</th>\n",
       "      <td>174.477332</td>\n",
       "      <td>0</td>\n",
       "      <td>8</td>\n",
       "      <td>100</td>\n",
       "      <td>109.657843</td>\n",
       "      <td>0.5</td>\n",
       "      <td>149.68</td>\n",
       "    </tr>\n",
       "    <tr>\n",
       "      <th>11</th>\n",
       "      <td>174.477332</td>\n",
       "      <td>0</td>\n",
       "      <td>8</td>\n",
       "      <td>100</td>\n",
       "      <td>109.657843</td>\n",
       "      <td>1.0</td>\n",
       "      <td>139.77</td>\n",
       "    </tr>\n",
       "    <tr>\n",
       "      <th>12</th>\n",
       "      <td>174.477332</td>\n",
       "      <td>0</td>\n",
       "      <td>5</td>\n",
       "      <td>80</td>\n",
       "      <td>109.657843</td>\n",
       "      <td>1.0</td>\n",
       "      <td>145.87</td>\n",
       "    </tr>\n",
       "    <tr>\n",
       "      <th>13</th>\n",
       "      <td>174.477332</td>\n",
       "      <td>0</td>\n",
       "      <td>5</td>\n",
       "      <td>90</td>\n",
       "      <td>109.657843</td>\n",
       "      <td>1.0</td>\n",
       "      <td>150.32</td>\n",
       "    </tr>\n",
       "    <tr>\n",
       "      <th>14</th>\n",
       "      <td>174.477332</td>\n",
       "      <td>0</td>\n",
       "      <td>5</td>\n",
       "      <td>50</td>\n",
       "      <td>109.657843</td>\n",
       "      <td>0.5</td>\n",
       "      <td>148.33</td>\n",
       "    </tr>\n",
       "    <tr>\n",
       "      <th>15</th>\n",
       "      <td>174.477332</td>\n",
       "      <td>0</td>\n",
       "      <td>5</td>\n",
       "      <td>60</td>\n",
       "      <td>109.657843</td>\n",
       "      <td>0.5</td>\n",
       "      <td>151.10</td>\n",
       "    </tr>\n",
       "    <tr>\n",
       "      <th>16</th>\n",
       "      <td>174.477332</td>\n",
       "      <td>0</td>\n",
       "      <td>5</td>\n",
       "      <td>70</td>\n",
       "      <td>109.657843</td>\n",
       "      <td>0.5</td>\n",
       "      <td>154.52</td>\n",
       "    </tr>\n",
       "    <tr>\n",
       "      <th>17</th>\n",
       "      <td>174.477332</td>\n",
       "      <td>0</td>\n",
       "      <td>10</td>\n",
       "      <td>50</td>\n",
       "      <td>109.657843</td>\n",
       "      <td>0.0</td>\n",
       "      <td>144.05</td>\n",
       "    </tr>\n",
       "    <tr>\n",
       "      <th>18</th>\n",
       "      <td>174.477332</td>\n",
       "      <td>0</td>\n",
       "      <td>0</td>\n",
       "      <td>50</td>\n",
       "      <td>109.657843</td>\n",
       "      <td>1.0</td>\n",
       "      <td>153.61</td>\n",
       "    </tr>\n",
       "  </tbody>\n",
       "</table>\n",
       "</div>"
      ],
      "text/plain": [
       "             0  1   2    3           4    5       6\n",
       "0   174.477332  0   5  100  109.657843  1.0  152.09\n",
       "1   174.477332  0   5  110  109.657843  1.0  151.31\n",
       "2   174.477332  0   5  120  109.657843  1.0  153.46\n",
       "3   174.477332  0   5  130  109.657843  1.0  145.10\n",
       "4   174.477332  0   5  140  109.657843  1.0  142.94\n",
       "5   174.477332  0   5  150  109.657843  1.0  148.81\n",
       "6   174.477332  0   3  100  109.657843  0.2  150.24\n",
       "7   174.477332  0   3  100  109.657843  0.5  156.45\n",
       "8   174.477332  0   3  100  109.657843  1.0  154.07\n",
       "9   174.477332  0   8  100  109.657843  0.2  144.63\n",
       "10  174.477332  0   8  100  109.657843  0.5  149.68\n",
       "11  174.477332  0   8  100  109.657843  1.0  139.77\n",
       "12  174.477332  0   5   80  109.657843  1.0  145.87\n",
       "13  174.477332  0   5   90  109.657843  1.0  150.32\n",
       "14  174.477332  0   5   50  109.657843  0.5  148.33\n",
       "15  174.477332  0   5   60  109.657843  0.5  151.10\n",
       "16  174.477332  0   5   70  109.657843  0.5  154.52\n",
       "17  174.477332  0  10   50  109.657843  0.0  144.05\n",
       "18  174.477332  0   0   50  109.657843  1.0  153.61"
      ]
     },
     "execution_count": 4,
     "metadata": {},
     "output_type": "execute_result"
    }
   ],
   "source": [
    "dat = df.dropna(axis = 'index', how = 'all', subset = [6])\n",
    "dat"
   ]
  },
  {
   "cell_type": "code",
   "execution_count": 7,
   "id": "07128a3a",
   "metadata": {},
   "outputs": [],
   "source": [
    "ft_cols = dat.drop(columns=[6]).columns.tolist()\n",
    "target_col = 6"
   ]
  },
  {
   "cell_type": "code",
   "execution_count": 8,
   "id": "d340bc20",
   "metadata": {},
   "outputs": [
    {
     "name": "stdout",
     "output_type": "stream",
     "text": [
      "(19, 6) (19,)\n"
     ]
    }
   ],
   "source": [
    "XX = dat[ft_cols].values#特征值\n",
    "yy = dat[target_col].values#目标值\n",
    "print(XX.shape, yy.shape)"
   ]
  },
  {
   "cell_type": "code",
   "execution_count": 8,
   "id": "1629a3ea",
   "metadata": {},
   "outputs": [
    {
     "name": "stdout",
     "output_type": "stream",
     "text": [
      "Best Parameters:  {'kernel__k1__length_scale': 0.1, 'kernel__k1__length_scale_bounds': (0.01, 1000.0), 'kernel__k2__noise_level': 0.001, 'kernel__k2__noise_level_bounds': (1e-05, 0.01)}\n",
      "Best Regressor:  GaussianProcessRegressor(kernel=RBF(length_scale=0.1) + WhiteKernel(noise_level=0.001))\n"
     ]
    }
   ],
   "source": [
    "from sklearn.model_selection import GridSearchCV\n",
    "\n",
    "# 创建高斯回归模型\n",
    "regressorGPR = GaussianProcessRegressor(kernel=RBF() + WhiteKernel())\n",
    "\n",
    "# 定义超参数的候选值\n",
    "param_grid = {\n",
    "    'kernel__k1__length_scale': [0.1, 1.0, 10.0],  # 高斯核函数的长度尺度\n",
    "    'kernel__k1__length_scale_bounds': [(1e-2, 1e3), (1e-1, 1e1)],  # 高斯核函数长度尺度的边界\n",
    "    'kernel__k2__noise_level': [1e-6, 1e-3, 1e-1],  # 白噪声核函数的噪声水平\n",
    "    'kernel__k2__noise_level_bounds': [(1e-10, 1e+1), (1e-5, 1e-2)],  # 白噪声核函数噪声水平的边界\n",
    "}\n",
    "\n",
    "# 创建网格搜索对象\n",
    "grid_search = GridSearchCV(regressorGPR, param_grid, cv=5, scoring='neg_mean_squared_error')\n",
    "\n",
    "# 使用特征矩阵X和目标变量y进行网格搜索\n",
    "grid_search.fit(XX, yy)\n",
    "\n",
    "# 输出最佳超参数组合\n",
    "best_params = grid_search.best_params_\n",
    "print(\"Best Parameters: \", best_params)\n",
    "\n",
    "# 输出最佳模型\n",
    "best_regressor = grid_search.best_estimator_\n",
    "print(\"Best Regressor: \", best_regressor)"
   ]
  },
  {
   "cell_type": "code",
   "execution_count": 9,
   "id": "826c4b54",
   "metadata": {},
   "outputs": [],
   "source": [
    "def GP_regression_std(regressor, X):\n",
    "    _, std = regressor.predict(X, return_std=True)\n",
    "    query_idx = np.argmax(std) \n",
    "    return query_idx, X[query_idx]"
   ]
  },
  {
   "cell_type": "code",
   "execution_count": 10,
   "id": "b856a476",
   "metadata": {},
   "outputs": [],
   "source": [
    "np.random.seed(8) \n",
    "\n",
    "n_initial = 7\n",
    "initial_idx = np.random.choice(range(len(XX)), size=n_initial, replace=False)\n",
    "X_training, y_training = XX[initial_idx], yy[initial_idx]\n",
    "\n",
    "# The kernel should be properly constructed.\n",
    "kernel = RBF(length_scale=0.1, length_scale_bounds=(0.01, 1000.0)) \\\n",
    "         + WhiteKernel(noise_level=0.001, noise_level_bounds=(1e-05, 0.01))#高斯回归的超参数\n",
    "\n",
    "regressor = ActiveLearner(#主动学习\n",
    "    estimator=GaussianProcessRegressor(kernel=kernel),#高斯回归\n",
    "    query_strategy=GP_regression_std,#最大的标准差\n",
    "    X_training=X_training.reshape(-1, 6), y_training=y_training.reshape(-1, 1)\n",
    ")"
   ]
  },
  {
   "cell_type": "code",
   "execution_count": 11,
   "id": "19371a99",
   "metadata": {},
   "outputs": [
    {
     "name": "stdout",
     "output_type": "stream",
     "text": [
      "0.198\n"
     ]
    }
   ],
   "source": [
    "y_pred, y_std = regressor.predict(X_training.reshape(-1, 6), return_std=True)\n",
    "y_pred, y_std = y_pred.ravel(), y_std.ravel()#排成列\n",
    "#r2_score_init = round(r2_score(y_training.reshape(-1, 1),y_pred))\n",
    "\n",
    "r2_score_init = r2_score(y_training.reshape(-1, 1),y_pred)\n",
    "r2_score_init = round(r2_score_init, 3)\n",
    "#print('Init R2 score: {}'.format(r2_score_init))\n",
    "print(r2_score_init)"
   ]
  },
  {
   "cell_type": "code",
   "execution_count": 10,
   "id": "b3fe3890",
   "metadata": {},
   "outputs": [
    {
     "data": {
      "image/png": "[encoded data removed]",
      "text/plain": [
       "<Figure size 500x500 with 1 Axes>"
      ]
     },
     "metadata": {},
     "output_type": "display_data"
    }
   ],
   "source": [
    "# visualizing the regressors\n",
    "with plt.style.context('fivethirtyeight'):\n",
    "    _,ax = plt.subplots(figsize=(5, 5))\n",
    "    ax.errorbar(y_training.reshape(-1, 1), \n",
    "                y_pred,\n",
    "               y_std,\n",
    "               fmt='o', elinewidth=0.5)\n",
    "    ax.text(0.2, 0.8, f\"$R^2$: {r2_score_init}\", \n",
    "         horizontalalignment='center',\n",
    "         verticalalignment='center', \n",
    "         transform=ax.transAxes, \n",
    "         bbox=dict(facecolor='red', alpha=0.2))\n",
    "    plt.title('GPR Regressor - init')"
   ]
  },
  {
   "cell_type": "code",
   "execution_count": 12,
   "id": "e975d580",
   "metadata": {},
   "outputs": [],
   "source": [
    "query_idx_list = []"
   ]
  },
  {
   "cell_type": "code",
   "execution_count": 13,
   "id": "5bb789c1",
   "metadata": {},
   "outputs": [],
   "source": [
    "n_queries = 12\n",
    "for idx in range(n_queries):\n",
    "    query_idx, query_instance = regressor.query(XX)\n",
    "    query_idx_list.append(query_idx)\n",
    "    regressor.teach(XX[query_idx].reshape(-1, 6), yy[query_idx].reshape(1, -1))"
   ]
  },
  {
   "cell_type": "code",
   "execution_count": 14,
   "id": "f804e5f3",
   "metadata": {
    "scrolled": true
   },
   "outputs": [
    {
     "name": "stdout",
     "output_type": "stream",
     "text": [
      "Shape of New XX dataset:(19, 6)\n",
      "R2 score: 0.34\n"
     ]
    }
   ],
   "source": [
    "XX_iter_1 = XX[np.concatenate((initial_idx, query_idx_list))]\n",
    "print(f'Shape of New XX dataset:{XX_iter_1.shape}')\n",
    "y_pred_iter1, y_std_iter1 = regressor.predict(XX_iter_1.reshape(-1, 6), return_std=True)\n",
    "y_pred_iter1, y_std_iter1 = y_pred_iter1.ravel(), y_std_iter1.ravel()\n",
    "r2_score_iter1 = r2_score(yy[np.concatenate((initial_idx, query_idx_list))].reshape(-1, 1), \n",
    "                          y_pred_iter1)\n",
    "r2_score_iter1 = round(r2_score_iter1,2)\n",
    "print('R2 score: {}'.format(r2_score_iter1))"
   ]
  },
  {
   "cell_type": "code",
   "execution_count": 15,
   "id": "dea6f51c",
   "metadata": {},
   "outputs": [
    {
     "data": {
      "image/png": "[encoded data removed]",
      "text/plain": [
       "<Figure size 500x500 with 1 Axes>"
      ]
     },
     "metadata": {},
     "output_type": "display_data"
    }
   ],
   "source": [
    "with plt.style.context('fivethirtyeight'):\n",
    "    _, ax = plt.subplots(figsize=(5, 5))\n",
    "    \n",
    "    ax.plot([140,156], [140,156], 'r--', linewidth=1)\n",
    "    \n",
    "    ax.errorbar(yy[np.concatenate((initial_idx, query_idx_list))].reshape(-1, 1), \n",
    "                y_pred_iter1,\n",
    "                y_std_iter1,\n",
    "                fmt='o', \n",
    "                markersize=10,\n",
    "                elinewidth=2, capsize = 4)\n",
    "    ax.text(0.2, 0.8, f\"$R^2$ = {r2_score_iter1}\", \n",
    "         horizontalalignment='center',\n",
    "         verticalalignment='center', \n",
    "         transform=ax.transAxes, \n",
    "         bbox=dict(facecolor='red', alpha=0.2),\n",
    "         fontsize = 18)\n",
    "    plt.yticks(fontsize = 16)\n",
    "    plt.xticks(fontsize = 16)\n",
    "    ax.set_xticks(range(140, 157, 4))\n",
    "    ax.set_yticks(range(140, 157, 4))\n",
    "    plt.title('Iteration 2')\n",
    "    plt.savefig(\"iteration 2_0611.png\",dpi=600,bbox_inches='tight')"
   ]
  },
  {
   "cell_type": "code",
   "execution_count": 13,
   "id": "599c2b83",
   "metadata": {},
   "outputs": [],
   "source": [
    "from sklearn.metrics import mean_absolute_error\n",
    "from sklearn.model_selection import cross_val_score"
   ]
  },
  {
   "cell_type": "code",
   "execution_count": 14,
   "id": "85d61c82",
   "metadata": {},
   "outputs": [],
   "source": [
    "def mean_absolute_error(true, pred):  \n",
    "    abs_error = np.abs(true - pred)\n",
    "    sum_abs_error = np.sum(abs_error)  \n",
    "    mae_loss = sum_abs_error / true.size  \n",
    "    return mae_loss"
   ]
  },
  {
   "cell_type": "code",
   "execution_count": 15,
   "id": "d7b42f38",
   "metadata": {},
   "outputs": [
    {
     "data": {
      "text/plain": [
       "3.0687266887946287"
      ]
     },
     "execution_count": 15,
     "metadata": {},
     "output_type": "execute_result"
    }
   ],
   "source": [
    "mean_absolute_error(yy, regressor.predict(XX))"
   ]
  },
  {
   "cell_type": "code",
   "execution_count": 20,
   "id": "f96ef517",
   "metadata": {},
   "outputs": [],
   "source": [
    "f8 = open(\"D:\\sklearn学习\\DCPD力学性能\\玻璃化转变温度0717\\玻璃化转变温度_GC2筛选用V4_特征值减少两轮版_主动学习筛选用.csv\", encoding = 'utf-8')"
   ]
  },
  {
   "cell_type": "code",
   "execution_count": 21,
   "id": "0d18cbf5",
   "metadata": {},
   "outputs": [],
   "source": [
    "df8 = pd.read_csv(f8, header = None)"
   ]
  },
  {
   "cell_type": "code",
   "execution_count": 22,
   "id": "0c68e981",
   "metadata": {},
   "outputs": [
    {
     "data": {
      "text/plain": [
       "(1331, 6)"
      ]
     },
     "execution_count": 22,
     "metadata": {},
     "output_type": "execute_result"
    }
   ],
   "source": [
    "X_pre = df8.values\n",
    "X_pre.shape"
   ]
  },
  {
   "cell_type": "code",
   "execution_count": 23,
   "id": "1760785e",
   "metadata": {},
   "outputs": [
    {
     "data": {
      "text/plain": [
       "(1320,\n",
       " array([174.4773318,   0.       ,  10.       , 150.       , 109.6578428,\n",
       "          0.       ]))"
      ]
     },
     "execution_count": 23,
     "metadata": {},
     "output_type": "execute_result"
    }
   ],
   "source": [
    "GP_regression_std(regressor, X_pre)"
   ]
  },
  {
   "cell_type": "code",
   "execution_count": 24,
   "id": "ef3e9d1c",
   "metadata": {},
   "outputs": [],
   "source": [
    "zhudongjieguo_V4 = pd.DataFrame(regressor.predict(df8))"
   ]
  },
  {
   "cell_type": "code",
   "execution_count": 25,
   "id": "0d9acb2c",
   "metadata": {},
   "outputs": [],
   "source": [
    "zhudongjieguo_V4.to_excel(excel_writer = r\"D:\\sklearn学习\\DCPD力学性能\\玻璃化转变温度0802_final_无Ipc\\主动学习第二轮后V4配方预测结果_无Ipc.xlsx\")"
   ]
  },
  {
   "cell_type": "code",
   "execution_count": 13,
   "id": "9e21b8f1",
   "metadata": {},
   "outputs": [
    {
     "data": {
      "image/png": "[encoded data removed]",
      "text/plain": [
       "<Figure size 800x500 with 1 Axes>"
      ]
     },
     "metadata": {},
     "output_type": "display_data"
    }
   ],
   "source": [
    "import matplotlib.pyplot as plt\n",
    "\n",
    "# 定义横轴数据\n",
    "x = range(len(XX_iter_1))\n",
    "\n",
    "# 绘制预测概率区间图\n",
    "\n",
    "fig = plt.figure(#facecolor='white', \n",
    "                 edgecolor=None, frameon=None,figsize=(8, 5))\n",
    "plt.gca().spines['top'].set_color('black')\n",
    "plt.gca().spines['bottom'].set_color('black')\n",
    "plt.gca().spines['left'].set_color('black')\n",
    "plt.gca().spines['right'].set_color('black')\n",
    "plt.yticks(fontsize = 18, color='black')\n",
    "plt.xticks(fontsize = 18, color='black')\n",
    "\n",
    "plt.scatter(x, yy[np.concatenate((initial_idx, query_idx_list))], label='Actual Tg')\n",
    "plt.plot(x, y_pred_iter1, color='r', label='Predicted Tg')\n",
    "\n",
    "# 计算并绘制预测概率区间\n",
    "upper_bound = y_pred_iter1 + 3 * y_std_iter1\n",
    "lower_bound = y_pred_iter1 - 3 * y_std_iter1\n",
    "plt.fill_between(x, lower_bound, upper_bound, alpha=0.2, color='gray', label='Prediction Interval')\n",
    "\n",
    "# 设置标题和标签\n",
    "plt.title('Iteration 2', fontsize=20, color='black', alpha = 0.2)\n",
    "#plt.xlabel('Data Point', fontsize=20, color='black')\n",
    "#plt.ylabel('Target Value', fontsize=20, color='black')\n",
    "plt.xticks([])  # 隐藏横坐标刻度标签\n",
    "plt.yticks([])\n",
    "# 添加图例\n",
    "\n",
    "#plt.legend(prop={'size': 15}, loc = 'lower left')\n",
    "\n",
    "# 显示图形\n",
    "plt.savefig(\"第2轮误差图_无Ipc2.png\",dpi=600,bbox_inches='tight',transparent=True)\n",
    "plt.show()"
   ]
  },
  {
   "cell_type": "code",
   "execution_count": 13,
   "id": "63cb84fa",
   "metadata": {},
   "outputs": [
    {
     "data": {
      "image/png": "[encoded data removed]",
      "text/plain": [
       "<Figure size 800x500 with 1 Axes>"
      ]
     },
     "metadata": {},
     "output_type": "display_data"
    }
   ],
   "source": [
    "import matplotlib.pyplot as plt\n",
    "\n",
    "# 定义横轴数据\n",
    "x = range(len(XX_iter_1))\n",
    "\n",
    "# 绘制预测概率区间图\n",
    "\n",
    "fig = plt.figure(#facecolor='white', \n",
    "                 edgecolor=None, frameon=None,figsize=(8, 5))\n",
    "plt.gca().spines['top'].set_color((0, 0, 0, 0.2))\n",
    "plt.gca().spines['bottom'].set_color((0, 0, 0, 0.2))\n",
    "plt.gca().spines['left'].set_color((0, 0, 0, 0.2))\n",
    "plt.gca().spines['right'].set_color((0, 0, 0, 0.2))\n",
    "plt.yticks(fontsize = 18, color='black')\n",
    "plt.xticks(fontsize = 18, color='black')\n",
    "\n",
    "plt.scatter(x, yy[np.concatenate((initial_idx, query_idx_list))], label='Actual Tg'\n",
    "           , color=(0/255, 0/255, 128/255), alpha = 0.2)\n",
    "plt.plot(x, y_pred_iter1, color=(178/255, 34/255, 34/255), label='Predicted Tg', alpha = 0.2)\n",
    "\n",
    "\n",
    "# 计算并绘制预测概率区间\n",
    "upper_bound = y_pred_iter1 + 3 * y_std_iter1\n",
    "lower_bound = y_pred_iter1 - 3 * y_std_iter1\n",
    "plt.fill_between(x, lower_bound, upper_bound, alpha=0.2, color=(230/255, 197/255, 210/255), label='Prediction Interval')\n",
    "\n",
    "\n",
    "# 设置标题和标签\n",
    "plt.title('Iteration 2', fontsize=20, color='black', alpha = 0.2)\n",
    "#plt.xlabel('Data Point', fontsize=20, color='black')\n",
    "#plt.ylabel('Target Value', fontsize=20, color='black')\n",
    "plt.xticks([])  # 隐藏横坐标刻度标签\n",
    "plt.yticks([])\n",
    "# 添加图例\n",
    "\n",
    "#plt.legend(prop={'size': 15}, loc = 'lower left')\n",
    "\n",
    "# 显示图形\n",
    "plt.savefig(\"0328第2轮误差图_无Ipc2_透明度0.2.png\",dpi=600,bbox_inches='tight',transparent=True)\n",
    "plt.show()"
   ]
  },
  {
   "cell_type": "code",
   "execution_count": null,
   "id": "1cc24076",
   "metadata": {},
   "outputs": [],
   "source": []
  }
 ],
 "metadata": {
  "kernelspec": {
   "display_name": "Python 3 (ipykernel)",
   "language": "python",
   "name": "python3"
  },
  "language_info": {
   "codemirror_mode": {
    "name": "ipython",
    "version": 3
   },
   "file_extension": ".py",
   "mimetype": "text/x-python",
   "name": "python",
   "nbconvert_exporter": "python",
   "pygments_lexer": "ipython3",
   "version": "3.11.5"
  }
 },
 "nbformat": 4,
 "nbformat_minor": 5
}
